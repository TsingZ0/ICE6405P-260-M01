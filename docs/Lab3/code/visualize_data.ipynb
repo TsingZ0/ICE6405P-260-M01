{
 "cells": [
  {
   "cell_type": "code",
   "execution_count": null,
   "metadata": {},
   "outputs": [],
   "source": [
    "import matplotlib.pyplot as plt\n",
    "import pandas as pd"
   ]
  },
  {
   "cell_type": "code",
   "execution_count": null,
   "metadata": {},
   "outputs": [],
   "source": [
    "df = pd.read_csv('para_data.csv',)\n",
    "data = df.to_numpy()"
   ]
  },
  {
   "cell_type": "code",
   "execution_count": null,
   "metadata": {},
   "outputs": [],
   "source": [
    "title = 'FedAvg in Parallel'\n",
    "fig = plt.figure(figsize=(10,8))\n",
    "\n",
    "ax = fig.add_subplot(111)\n",
    "ax.set_title(title)\n",
    "\n",
    "ax.scatter(data[:,0],data[:,1], s=2,c='#D45542')\n",
    "ax.scatter(data[:,0],data[:,2], s=2,c='#EB54D1')\n",
    "ax.scatter(data[:,0],data[:,3], s=2,c='#7A42D4')\n",
    "ax.scatter(data[:,0],data[:,4], s=2,c='#4E81F5')\n",
    "ax.legend(['clients=5', 'clients=10', 'clients=20','clients=50'])\n",
    "ax.set_xlabel('Communication Rounds')\n",
    "ax.set_ylabel('Accuracy')\n"
   ]
  },
  {
   "cell_type": "code",
   "execution_count": null,
   "metadata": {},
   "outputs": [],
   "source": [
    "df = pd.read_csv('sim_data.csv',)\n",
    "data = df.to_numpy()"
   ]
  },
  {
   "cell_type": "code",
   "execution_count": null,
   "metadata": {},
   "outputs": [],
   "source": [
    "title = 'FedAvg in simulation'\n",
    "fig = plt.figure(figsize=(10,8))\n",
    "\n",
    "ax = fig.add_subplot(111)\n",
    "ax.set_title(title)\n",
    "\n",
    "ax.scatter(data[:,0],data[:,1], s=2, c='#F7A34D')\n",
    "ax.scatter(data[:,0],data[:,2], s=2, c='#D45542')\n",
    "ax.scatter(data[:,0],data[:,3], s=2, c='#EB54D1')\n",
    "ax.scatter(data[:,0],data[:,4], s=2, c='#7A42D4')\n",
    "ax.scatter(data[:,0],data[:,5], s=2, c='#4E81F5')\n",
    "\n",
    "\n",
    "ax.legend(['clients=10', 'clients=20', 'clients=50','clients=100', 'clients=1000'])\n",
    "ax.set_xlabel('Communication Rounds')\n",
    "ax.set_ylabel('Accuracy')\n"
   ]
  },
  {
   "cell_type": "code",
   "execution_count": null,
   "metadata": {},
   "outputs": [],
   "source": []
  }
 ],
 "metadata": {
  "interpreter": {
   "hash": "b7c59ae349b89002e5d9a41cf20612c9d28ce1fe446975649c8c770e06c2ba48"
  },
  "kernelspec": {
   "display_name": "Python 3.9.2 64-bit ('mlprepro': conda)",
   "name": "python3"
  },
  "language_info": {
   "codemirror_mode": {
    "name": "ipython",
    "version": 3
   },
   "file_extension": ".py",
   "mimetype": "text/x-python",
   "name": "python",
   "nbconvert_exporter": "python",
   "pygments_lexer": "ipython3",
   "version": "3.9.2"
  },
  "orig_nbformat": 4
 },
 "nbformat": 4,
 "nbformat_minor": 2
}
