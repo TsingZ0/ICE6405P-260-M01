{
 "cells": [
  {
   "cell_type": "code",
   "execution_count": null,
   "metadata": {},
   "outputs": [],
   "source": [
    "import torch\n",
    "import torchvision\n",
    "import tqdm\n",
    "import random\n",
    "from typing import List\n",
    "import pickle\n",
    "dataset = torchvision.datasets.MNIST('./data/',\n",
    "                                     train=True,\n",
    "                                     download=True,\n",
    "                                     transform=torchvision.transforms.Compose([\n",
    "                                         torchvision.transforms.ToTensor(),\n",
    "                                         torchvision.transforms.Normalize((0.1307, ), (0.3081, ))\n",
    "                                     ]))\n"
   ]
  },
  {
   "cell_type": "code",
   "execution_count": null,
   "metadata": {},
   "outputs": [],
   "source": [
    "res_stimulis: torch.Tensor = torch.zeros(size=(10, 7000, 1, 28, 28), dtype=torch.float32)\n",
    "res_labels: torch.Tensor = torch.zeros(size=(10, 7000), dtype=torch.float32)\n",
    "res_index: torch.Tensor = torch.zeros(size=(10,),dtype=torch.int64)\n",
    "dataloader = torch.utils.data.DataLoader(dataset, shuffle=True)\n",
    "\n",
    "with tqdm.tqdm(dataset) as pbar:\n",
    "    for item in dataset:\n",
    "        label = item[1]\n",
    "        res_stimulis[label, res_index[label],:,:,:] = item[0]\n",
    "        res_labels[label, res_index[label]] = label\n",
    "        res_index[label] += 1\n",
    "        pbar.update()\n",
    "\n",
    "res_stimulis_all: torch.Tensor = torch.cat([res_stimulis[idx, 0:res_index[idx],...] for idx in range(10)])\n",
    "res_labels_all: torch.Tensor = torch.cat([res_labels[idx, 0:res_index[idx],...] for idx in range(10)]).to(torch.int64)"
   ]
  },
  {
   "cell_type": "code",
   "execution_count": null,
   "metadata": {},
   "outputs": [],
   "source": [
    "n_client: int = 100\n",
    "n_patches: int = n_client * 2\n",
    "patch_sz = 60000 // n_patches\n",
    "data_assignment: List[int] = list(range(n_patches))\n",
    "random.shuffle(data_assignment)\n",
    "export_dir = f'./export_mnist_{n_client}'\n",
    "\n",
    "for client_id in range(n_client):\n",
    "    patch_idx_1 = data_assignment[client_id * 2]\n",
    "    patch_idx_2 = data_assignment[client_id * 2  + 1]\n",
    "\n",
    "    stimulis_tmp = torch.cat([\n",
    "        res_stimulis_all[patch_idx_1 * patch_sz:(patch_idx_1 + 1) * patch_sz, ...],\n",
    "        res_stimulis_all[patch_idx_2 * patch_sz:(patch_idx_2 + 1) * patch_sz, ...]\n",
    "    ])\n",
    "    labels_tmp = torch.cat([\n",
    "        res_labels_all[patch_idx_1 * patch_sz:(patch_idx_1 + 1) * patch_sz, ...],\n",
    "        res_labels_all[patch_idx_2 * patch_sz:(patch_idx_2 + 1) * patch_sz, ...]\n",
    "    ]).to(torch.int64)\n",
    "\n",
    "    data = {'stimulis': stimulis_tmp, 'labels': labels_tmp}\n",
    "    with open(f'{export_dir}/client_{client_id}.pkl', 'wb') as f:\n",
    "        pickle.dump(data, f)"
   ]
  },
  {
   "cell_type": "code",
   "execution_count": null,
   "metadata": {},
   "outputs": [],
   "source": [
    "import matplotlib.pyplot as plt\n",
    "plt.imshow(data['stimulis'][400,0,...])\n",
    "plt.show()\n",
    "data['labels'][400]"
   ]
  },
  {
   "cell_type": "code",
   "execution_count": null,
   "metadata": {},
   "outputs": [],
   "source": []
  }
 ],
 "metadata": {
  "interpreter": {
   "hash": "b7c59ae349b89002e5d9a41cf20612c9d28ce1fe446975649c8c770e06c2ba48"
  },
  "kernelspec": {
   "display_name": "Python 3.9.2 64-bit ('mlprepro': conda)",
   "name": "python3"
  },
  "language_info": {
   "codemirror_mode": {
    "name": "ipython",
    "version": 3
   },
   "file_extension": ".py",
   "mimetype": "text/x-python",
   "name": "python",
   "nbconvert_exporter": "python",
   "pygments_lexer": "ipython3",
   "version": "3.9.2"
  },
  "orig_nbformat": 4
 },
 "nbformat": 4,
 "nbformat_minor": 2
}
