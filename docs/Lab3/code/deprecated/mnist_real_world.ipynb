{
 "cells": [
  {
   "cell_type": "code",
   "execution_count": null,
   "metadata": {},
   "outputs": [],
   "source": [
    "import torch\n",
    "import torchvision\n",
    "import tqdm\n",
    "import random\n",
    "from typing import List, Tuple\n",
    "import pickle\n",
    "import matplotlib.pyplot as plt"
   ]
  },
  {
   "cell_type": "code",
   "execution_count": null,
   "metadata": {},
   "outputs": [],
   "source": [
    "def sort_mnist() -> Tuple[torch.Tensor, torch.Tensor]:\n",
    "    dataset = torchvision.datasets.MNIST('./data/',\n",
    "                                     train=True,\n",
    "                                     download=True,\n",
    "                                     transform=torchvision.transforms.Compose([\n",
    "                                         torchvision.transforms.ToTensor(),\n",
    "                                         torchvision.transforms.Normalize((0.1307, ), (0.3081, ))\n",
    "                                     ]))\n",
    "    res_stimulis: torch.Tensor = torch.zeros(size=(10, 7000, 1, 28, 28), dtype=torch.float32)\n",
    "    res_labels: torch.Tensor = torch.zeros(size=(10, 7000), dtype=torch.float32)\n",
    "    res_index: torch.Tensor = torch.zeros(size=(10,),dtype=torch.int64)\n",
    "    dataloader = torch.utils.data.DataLoader(dataset, shuffle=True)\n",
    "\n",
    "    with tqdm.tqdm(dataset) as pbar:\n",
    "        for item in dataset:\n",
    "            label = item[1]\n",
    "            res_stimulis[label, res_index[label],:,:,:] = item[0]\n",
    "            res_labels[label, res_index[label]] = label\n",
    "            res_index[label] += 1\n",
    "            pbar.update()\n",
    "\n",
    "    res_stimulis_all: torch.Tensor = torch.cat([res_stimulis[idx, 0:res_index[idx],...] for idx in range(10)])\n",
    "    res_labels_all: torch.Tensor = torch.cat([res_labels[idx, 0:res_index[idx],...] for idx in range(10)]).to(torch.int64)\n",
    "\n",
    "    return res_stimulis_all, res_labels_all\n",
    "\n",
    "def break_into(n,m):\n",
    "    ''' \n",
    "    return m random integers with sum equal to n \n",
    "    '''\n",
    "    distribution = [1 for i in range(m)]\n",
    "\n",
    "    for i in range(n-m):\n",
    "        ind = random.randint(0,m-1)\n",
    "        distribution[ind] += 1\n",
    "\n",
    "    index = [i for i in range(n)]\n",
    "    random.shuffle(index)\n",
    "\n",
    "    res = [[] for i in range(m)]\n",
    "    tmp: int = 0\n",
    "    for idx, bin in enumerate(distribution):\n",
    "        res[idx] += index[tmp: tmp + bin]\n",
    "        tmp += bin\n",
    "\n",
    "    return res"
   ]
  },
  {
   "cell_type": "code",
   "execution_count": null,
   "metadata": {},
   "outputs": [],
   "source": [
    "idx = 190\n",
    "plt.imshow(realworld_dataset[idx][0][0])\n",
    "print(realworld_dataset[idx][1])\n",
    "print(f'len={len(realworld_dataset)}')\n",
    "plt.hist(realworld_dataset.labels.numpy())\n",
    "plt.show()"
   ]
  },
  {
   "cell_type": "code",
   "execution_count": null,
   "metadata": {},
   "outputs": [],
   "source": []
  }
 ],
 "metadata": {
  "interpreter": {
   "hash": "b7c59ae349b89002e5d9a41cf20612c9d28ce1fe446975649c8c770e06c2ba48"
  },
  "kernelspec": {
   "display_name": "Python 3.9.2 64-bit ('mlprepro': conda)",
   "name": "python3"
  },
  "language_info": {
   "codemirror_mode": {
    "name": "ipython",
    "version": 3
   },
   "file_extension": ".py",
   "mimetype": "text/x-python",
   "name": "python",
   "nbconvert_exporter": "python",
   "pygments_lexer": "ipython3",
   "version": "3.9.2"
  },
  "orig_nbformat": 4
 },
 "nbformat": 4,
 "nbformat_minor": 2
}
